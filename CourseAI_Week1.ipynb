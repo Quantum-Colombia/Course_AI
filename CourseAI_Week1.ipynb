{
  "nbformat": 4,
  "nbformat_minor": 0,
  "metadata": {
    "colab": {
      "provenance": []
    },
    "kernelspec": {
      "name": "python3",
      "display_name": "Python 3"
    },
    "language_info": {
      "name": "python"
    }
  },
  "cells": [
    {
      "cell_type": "markdown",
      "source": [
        "# Machine Learning: Auscultando las Redes Neuronales con Python\n",
        "*Primera semana*\\\n",
        "Tomado de las notas de Diego Luis Aristizábal R,\\\n",
        "Quantum computing UNAL, Universidad Nacional de Colombia\\\n",
        "Sergio Quiroga Sandoval\n"
      ],
      "metadata": {
        "id": "QtSUxxwYJSbC"
      }
    },
    {
      "cell_type": "code",
      "execution_count": null,
      "metadata": {
        "id": "iA6HeInF3MCX"
      },
      "outputs": [],
      "source": [
        "import numpy as np"
      ]
    },
    {
      "cell_type": "markdown",
      "source": [
        "## Manejando Arreglos"
      ],
      "metadata": {
        "id": "l-KzNZHXA8DV"
      }
    },
    {
      "cell_type": "code",
      "source": [
        "#creando listas\n",
        "\n",
        "listas1 = [1,5,8,10]\n",
        "print(\"listas1 = \", listas1)\n",
        "listas2 = [1,5,8,10, \"hola\", False]\n",
        "print(\"listas2 = \", listas2)\n",
        "listas3 = [[2,3,5],[8,3,1],[2,7,20]]\n",
        "print(\"listas3 = \", listas3)"
      ],
      "metadata": {
        "colab": {
          "base_uri": "https://localhost:8080/"
        },
        "id": "b_dWaOy83SGM",
        "outputId": "c31710c0-4f75-4781-c8dc-e464af1c2a24"
      },
      "execution_count": null,
      "outputs": [
        {
          "output_type": "stream",
          "name": "stdout",
          "text": [
            "listas1 =  [1, 5, 8, 10]\n",
            "listas2 =  [1, 5, 8, 10, 'hola', False]\n",
            "listas3 =  [[2, 3, 5], [8, 3, 1], [2, 7, 20]]\n"
          ]
        }
      ]
    },
    {
      "cell_type": "code",
      "source": [
        "#Creando arreglos desde listas\n",
        "\n",
        "n = [2,3,214]\n",
        "m = np.array(n)\n",
        "print(\"tipo de dato: \", m.dtype)\n",
        "print(\"forma del arreglo: \", m.shape)\n",
        "print(\"tamaño del arreglo: \", m.size)\n",
        "print(\"dimension del arreglo \", m.ndim)\n",
        "print(m)\n"
      ],
      "metadata": {
        "colab": {
          "base_uri": "https://localhost:8080/"
        },
        "id": "lSoxi7fK30F0",
        "outputId": "bee33cc1-11b4-4ae7-f490-cf6491858360"
      },
      "execution_count": null,
      "outputs": [
        {
          "output_type": "stream",
          "name": "stdout",
          "text": [
            "tipo de dato:  int64\n",
            "forma del arreglo:  (3,)\n",
            "tamaño del arreglo:  3\n",
            "dimension del arreglo  1\n",
            "[  2   3 214]\n"
          ]
        }
      ]
    },
    {
      "cell_type": "code",
      "source": [
        "n = [123.121]\n",
        "m = np.array(n)\n",
        "print(m.dtype)"
      ],
      "metadata": {
        "colab": {
          "base_uri": "https://localhost:8080/"
        },
        "id": "idnlCkfY478Y",
        "outputId": "932d6336-cd0d-4b06-9fb1-82daaceca395"
      },
      "execution_count": null,
      "outputs": [
        {
          "output_type": "stream",
          "name": "stdout",
          "text": [
            "float64\n"
          ]
        }
      ]
    },
    {
      "cell_type": "code",
      "source": [
        "n = [12,2,46]\n",
        "m = np.array(n, dtype =\"float16\")\n",
        "print(\"tipo de dato: \", m.dtype)\n",
        "print(\"forma del arreglo: \", m.shape)\n",
        "print(\"tamaño del arreglo: \", m.size)\n",
        "print(\"dimension del arreglo \", m.ndim)\n",
        "print(m)"
      ],
      "metadata": {
        "colab": {
          "base_uri": "https://localhost:8080/"
        },
        "id": "inAq8z-F5lcC",
        "outputId": "03f3c9c0-f420-4988-e46e-91c1fde8443d"
      },
      "execution_count": null,
      "outputs": [
        {
          "output_type": "stream",
          "name": "stdout",
          "text": [
            "tipo de dato:  float16\n",
            "forma del arreglo:  (3,)\n",
            "tamaño del arreglo:  3\n",
            "dimension del arreglo  1\n",
            "[12.  2. 46.]\n"
          ]
        }
      ]
    },
    {
      "cell_type": "markdown",
      "source": [
        "**Clase 2**"
      ],
      "metadata": {
        "id": "6csfsVTlDPP9"
      }
    },
    {
      "cell_type": "code",
      "source": [
        "a = np.array([[1,23,14,5],\n",
        "              [4,34,324,21]])\n",
        "a.shape = (4,2)                      # Redimensionar arrays\n",
        "print(\"tipo de dato: \", a.dtype)\n",
        "print(\"forma del arreglo: \", a.shape)\n",
        "print(\"tamaño del arreglo: \", a.size)\n",
        "print(\"dimension del arreglo \", a.ndim)\n",
        "print(a)"
      ],
      "metadata": {
        "colab": {
          "base_uri": "https://localhost:8080/"
        },
        "id": "dEQZVb9tCbBT",
        "outputId": "247e90b5-2ab2-4d9d-e2ba-6581719e5437"
      },
      "execution_count": null,
      "outputs": [
        {
          "output_type": "stream",
          "name": "stdout",
          "text": [
            "tipo de dato:  int64\n",
            "forma del arreglo:  (4, 2)\n",
            "tamaño del arreglo:  8\n",
            "dimension del arreglo  2\n",
            "[[  1  23]\n",
            " [ 14   5]\n",
            " [  4  34]\n",
            " [324  21]]\n"
          ]
        }
      ]
    },
    {
      "cell_type": "code",
      "source": [
        " #Indexación y slicing\n",
        "\n",
        " a = np.array([[1,23,14,5],\n",
        "               [4,34,324,21],\n",
        "               [3,42],\n",
        "               2,123,3], dtype = object)\n",
        " # se debe especificar dtype = object porque se está creando un array que contiene multiples listas de distinto tamaño y enteros\n",
        "print(a)\n",
        "print(a[0])\n",
        "print(a[1][3])\n",
        "print(a[0:2])\n",
        "print(a[-1])"
      ],
      "metadata": {
        "colab": {
          "base_uri": "https://localhost:8080/"
        },
        "id": "iguqufz5C4r6",
        "outputId": "af7bdf79-d03f-40d5-f575-1dafcbc866d6"
      },
      "execution_count": null,
      "outputs": [
        {
          "output_type": "stream",
          "name": "stdout",
          "text": [
            "[list([1, 23, 14, 5]) list([4, 34, 324, 21]) list([3, 42]) 2 123 3]\n",
            "[1, 23, 14, 5]\n",
            "21\n",
            "[list([1, 23, 14, 5]) list([4, 34, 324, 21])]\n",
            "3\n"
          ]
        }
      ]
    },
    {
      "cell_type": "code",
      "source": [
        " a = np.arange(20)\n",
        " print(a)\n",
        " print(a[0:19:2])           # se imprimen los valores cada 2 elementos\n",
        " print(a[-8:-1])\n",
        " print(a[12:1:-2])          # se imprimen de adelante hacia atrás gracias al negativo (-2)"
      ],
      "metadata": {
        "colab": {
          "base_uri": "https://localhost:8080/"
        },
        "id": "WvrYKKzfESK8",
        "outputId": "f1c3f33e-1236-4e26-8b8f-a119a25575c6"
      },
      "execution_count": null,
      "outputs": [
        {
          "output_type": "stream",
          "name": "stdout",
          "text": [
            "[ 0  1  2  3  4  5  6  7  8  9 10 11 12 13 14 15 16 17 18 19]\n",
            "[ 0  2  4  6  8 10 12 14 16 18]\n",
            "[12 13 14 15 16 17 18]\n",
            "[12 10  8  6  4  2]\n",
            "[]\n"
          ]
        }
      ]
    },
    {
      "cell_type": "code",
      "source": [
        "m = np.arange(20)\n",
        "m[0:4] = [100,101,3,22223]            # se reemplazan los valores especificados en el array original\n",
        "print(m)"
      ],
      "metadata": {
        "colab": {
          "base_uri": "https://localhost:8080/"
        },
        "id": "OVtZta4pFO3b",
        "outputId": "1087af23-c80d-4ac7-e842-8656669b4ccb"
      },
      "execution_count": null,
      "outputs": [
        {
          "output_type": "stream",
          "name": "stdout",
          "text": [
            "[  100   101     3 22223     4     5     6     7     8     9    10    11\n",
            "    12    13    14    15    16    17    18    19]\n"
          ]
        }
      ]
    },
    {
      "cell_type": "markdown",
      "source": [
        "**Clase 3**"
      ],
      "metadata": {
        "id": "aq15brp1DJRl"
      }
    },
    {
      "cell_type": "markdown",
      "source": [
        "## Indexación y Slicing con Booleanas"
      ],
      "metadata": {
        "id": "8VQZetK5Anav"
      }
    },
    {
      "cell_type": "code",
      "source": [
        "#app_1.41\n",
        "import numpy as np\n",
        "a = np.array([1,2,3,4,5,6,7])#array\n",
        "mascara = [True,True, False,True, False, False, True]\n",
        "print(\"a:\")\n",
        "print(a)\n",
        "print(\"a[mascara]:\")\n",
        "print(a[mascara])"
      ],
      "metadata": {
        "colab": {
          "base_uri": "https://localhost:8080/"
        },
        "id": "s0WgDzKbBAfn",
        "outputId": "4f4a4318-86c8-460d-9465-1c45f9f0367a"
      },
      "execution_count": null,
      "outputs": [
        {
          "output_type": "stream",
          "name": "stdout",
          "text": [
            "a:\n",
            "[1 2 3 4 5 6 7]\n",
            "a[mascara]:\n",
            "[1 2 4 7]\n"
          ]
        }
      ]
    },
    {
      "cell_type": "code",
      "source": [
        "#app_1.42\n",
        "import numpy as np\n",
        "a = np.array([1,2,3,4,5,6,7])#array\n",
        "mascara = a > 3\n",
        "print(\"a:\")\n",
        "print(a)\n",
        "print(\"mascara:\")\n",
        "print(mascara)\n",
        "print(\"a[mascara]:\")\n",
        "print(a[mascara])"
      ],
      "metadata": {
        "colab": {
          "base_uri": "https://localhost:8080/"
        },
        "id": "CibK6v-UB_BC",
        "outputId": "d8586265-9669-4c14-a27d-a656fc496b5c"
      },
      "execution_count": null,
      "outputs": [
        {
          "output_type": "stream",
          "name": "stdout",
          "text": [
            "a:\n",
            "[1 2 3 4 5 6 7]\n",
            "mascara:\n",
            "[False False False  True  True  True  True]\n",
            "a[mascara]:\n",
            "[4 5 6 7]\n"
          ]
        }
      ]
    },
    {
      "cell_type": "markdown",
      "source": [
        "Nada impide saltarse el paso de definir la variable \"mascara\" explícitamente y generar el array\n",
        "de booleanos directamente en la definición de la selección:"
      ],
      "metadata": {
        "id": "7K6a-UcgDiSU"
      }
    },
    {
      "cell_type": "code",
      "source": [
        "#app_1.43\n",
        "import numpy as np\n",
        "import numpy as np\n",
        "a = np.array([1,2,3,4,5,6,7])#array\n",
        "print(\"a:\")\n",
        "print(a)\n",
        "print(\"a>3:\")\n",
        "print(a>3)"
      ],
      "metadata": {
        "colab": {
          "base_uri": "https://localhost:8080/"
        },
        "id": "UKBZjj7sDkys",
        "outputId": "dee3bb9b-9e85-4133-9316-e634cca9ec6a"
      },
      "execution_count": null,
      "outputs": [
        {
          "output_type": "stream",
          "name": "stdout",
          "text": [
            "a:\n",
            "[1 2 3 4 5 6 7]\n",
            "a>3:\n",
            "[False False False  True  True  True  True]\n"
          ]
        }
      ]
    },
    {
      "cell_type": "markdown",
      "source": [
        "Esta misma técnica puede ser utilizada para modificar el array:"
      ],
      "metadata": {
        "id": "DjXhXMYxD9u1"
      }
    },
    {
      "cell_type": "code",
      "source": [
        "#app_1.44\n",
        "import numpy as np\n",
        "a = np.array([1,2,3,4,5,6,7])#array\n",
        "print(\"a:\")\n",
        "print(a)\n",
        "print(\"a>3:\")\n",
        "print(a>3)\n",
        "print(\"a[a>3]=0:\")\n",
        "a[a>3] = 0\n",
        "print(a)"
      ],
      "metadata": {
        "colab": {
          "base_uri": "https://localhost:8080/"
        },
        "id": "SqlOzizUD5C4",
        "outputId": "b4eaf65b-f432-4679-d3d3-53ab40e2a9fb"
      },
      "execution_count": null,
      "outputs": [
        {
          "output_type": "stream",
          "name": "stdout",
          "text": [
            "a:\n",
            "[1 2 3 4 5 6 7]\n",
            "a>3:\n",
            "[False False False  True  True  True  True]\n",
            "a[a>3]=0:\n",
            "[1 2 3 0 0 0 0]\n"
          ]
        }
      ]
    },
    {
      "cell_type": "markdown",
      "source": [
        "## Números aleatorios"
      ],
      "metadata": {
        "id": "LUh8keDRD_vU"
      }
    },
    {
      "cell_type": "markdown",
      "source": [
        "NumPy contiene su propio generador de número aleatorios que se puede acceder mediante\n",
        "la función np.random.rand(): cada vez que se ejecute esta se obtendrá un número diferente,\n",
        "salvo que se fije una semilla. Para dar utilidad de reproducibilidad la semilla se puede\n",
        "fijar np.random.seed(): esto es importante para asegurar que una vez obtenido los números\n",
        "siempre se logren los mimos en repetidos usos. \\\n",
        "Una ventaja del generador de número aleatorios de NumPy es la posibilidad de obtener un\n",
        "vector en lugar de un escalar. Por ejemplo, a continuación, se generan números aleatorios entre\n",
        "0 y 1."
      ],
      "metadata": {
        "id": "LV2X3Um7EC4y"
      }
    },
    {
      "cell_type": "code",
      "source": [
        "#app_1.48\n",
        "import numpy as np\n",
        "np.random.seed(0)\n",
        "print(\"Serie #1:\", np.random.rand(3))\n",
        "np.random.seed(0)\n",
        "print(\"Serie #2:\", np.random.rand(3))\n",
        "print(\"\\n\")\n",
        "print(\"Escalar:\\n\", np.random.rand())\n",
        "print(\"\\n\")\n",
        "print(\"Vector:\\n\", np.random.rand(3))\n",
        "print(\"\\n\")\n",
        "print(\"Matriz:\\n\", np.random.rand(3, 3))"
      ],
      "metadata": {
        "colab": {
          "base_uri": "https://localhost:8080/"
        },
        "id": "zvJ5CiCuEWfq",
        "outputId": "04b1495d-d0f5-4d70-c34a-5516042f625f"
      },
      "execution_count": null,
      "outputs": [
        {
          "output_type": "stream",
          "name": "stdout",
          "text": [
            "Serie #1: [0.5488135  0.71518937 0.60276338]\n",
            "Serie #2: [0.5488135  0.71518937 0.60276338]\n",
            "\n",
            "\n",
            "Escalar:\n",
            " 0.5448831829968969\n",
            "\n",
            "\n",
            "Vector:\n",
            " [0.4236548  0.64589411 0.43758721]\n",
            "\n",
            "\n",
            "Matriz:\n",
            " [[0.891773   0.96366276 0.38344152]\n",
            " [0.79172504 0.52889492 0.56804456]\n",
            " [0.92559664 0.07103606 0.0871293 ]]\n"
          ]
        }
      ]
    },
    {
      "cell_type": "markdown",
      "source": [
        "Si se quiere cambiar de semilla simplemente se cambia el argumento n."
      ],
      "metadata": {
        "id": "n8ED7ti1FC2C"
      }
    },
    {
      "cell_type": "code",
      "source": [
        "np.random.seed(n)"
      ],
      "metadata": {
        "id": "ZcFTniLJFCOQ"
      },
      "execution_count": null,
      "outputs": []
    },
    {
      "cell_type": "markdown",
      "source": [
        "El siguiente ejemplo genera aleatrorios con distribución normal,"
      ],
      "metadata": {
        "id": "dnlg5xrEFKoF"
      }
    },
    {
      "cell_type": "code",
      "source": [
        "#app_1.49\n",
        "import numpy as np\n",
        "import matplotlib.pyplot as plt\n",
        "np.random.seed(12)  #semilla\n",
        "campana_gauss = np.random.randn(10000)\n",
        "plt.hist(campana_gauss, bins=1000)\n",
        "plt.show()"
      ],
      "metadata": {
        "colab": {
          "base_uri": "https://localhost:8080/",
          "height": 432
        },
        "id": "2f8LPrcfFKG6",
        "outputId": "0b572cab-0900-41a5-ebcb-5a2b86589138"
      },
      "execution_count": null,
      "outputs": [
        {
          "output_type": "display_data",
          "data": {
            "text/plain": [
              "<Figure size 640x480 with 1 Axes>"
            ],
            "image/png": "[encoded data removed]"
          },
          "metadata": {}
        }
      ]
    },
    {
      "cell_type": "markdown",
      "source": [
        "## Vectorización"
      ],
      "metadata": {
        "id": "mpzoWtEmGZxP"
      }
    },
    {
      "cell_type": "code",
      "source": [
        "#app_1.50\n",
        "import numpy as np\n",
        "lista_A = [[20, 37, 51, 10],\n",
        " [85, 28, 20, 47],\n",
        " [20, 52, 95, 38]]\n",
        "lista_B = [[12, 45, 63, 3],\n",
        " [10, 24, 5, 25],\n",
        " [52, 12, 0, 8]]\n",
        "A = np.array(lista_A)\n",
        "B = np.array(lista_B)\n",
        "#SUMA\n",
        "print(\"A +B:\\n\", A + B)\n",
        "print(\"\\n\")\n",
        "#SENO\n",
        "#Suponiendo que los elemento de A\n",
        "#están en grados\n",
        "A_rad = np.radians(A)\n",
        "print(\"sen(A):\\n\", np.sin(A_rad))\n",
        "print(\"\\n\")\n",
        "#COMPARACIÓN\n",
        "print(\"A>B:\\n \", A > B)\n",
        "print(\"\\n\")\n",
        "#FILTRAR\n",
        "umbral =50\n",
        "print(\"A>10:\\n\", A[A>umbral])\n",
        "#ORDENAR EN FORMA ASCENDENTE\n",
        "print(\"A organizado ascendentemente:\\n\", np.sort(A))"
      ],
      "metadata": {
        "colab": {
          "base_uri": "https://localhost:8080/"
        },
        "id": "OgVUsflbGXME",
        "outputId": "febe02fd-6b81-4a53-d823-f6e5da0bfa1a"
      },
      "execution_count": null,
      "outputs": [
        {
          "output_type": "stream",
          "name": "stdout",
          "text": [
            "A +B:\n",
            " [[ 32  82 114  13]\n",
            " [ 95  52  25  72]\n",
            " [ 72  64  95  46]]\n",
            "\n",
            "\n",
            "sen(A):\n",
            " [[0.34202014 0.60181502 0.77714596 0.17364818]\n",
            " [0.9961947  0.46947156 0.34202014 0.7313537 ]\n",
            " [0.34202014 0.78801075 0.9961947  0.61566148]]\n",
            "\n",
            "\n",
            "A>B:\n",
            "  [[ True False False  True]\n",
            " [ True  True  True  True]\n",
            " [False  True  True  True]]\n",
            "\n",
            "\n",
            "A>10:\n",
            " [51 85 52 95]\n",
            "A organizado ascendentemente:\n",
            " [[10 20 37 51]\n",
            " [20 28 47 85]\n",
            " [20 38 52 95]]\n"
          ]
        }
      ]
    },
    {
      "cell_type": "markdown",
      "source": [
        "## CPU vs GPU"
      ],
      "metadata": {
        "id": "QQ-biitoHvQe"
      }
    },
    {
      "cell_type": "markdown",
      "source": [
        "Si bien las CPU pueden procesar muchas tareas generales de manera rápida y secuencial, las\n",
        "GPU utilizan computación paralela para dividir problemas enormemente complejos en múltiples\n",
        "cálculos simultáneos más pequeños. Esto los hace ideales para manejar los procesos\n",
        "computacionales distribuidos masivamente necesarios para el Deep Learning. \\\n",
        "En el código siguiente se hace la comparación del rendimiento en el cálculo del producto de\n",
        "dos matrices de orden 1000x1000 realizadas en CPU primero con código sólo de Python, luego\n",
        "en CPU usando la librería NumPy y por último en CPU usando tensores y el framework\n",
        "TensorFlow (es muchísmo más rápido con GPU y TensorFlow). El programa se ejecutó en\n",
        "un notebooke jupyter (en entorno GPU)."
      ],
      "metadata": {
        "id": "Lbu4-zbYIR-K"
      }
    },
    {
      "cell_type": "code",
      "source": [
        "import time\n",
        "import os\n",
        "import tensorflow.compat.v1 as tf\n",
        "import numpy as np\n",
        "# TAMAÑO DE LA MATRIZ: SIZExSIZE\n",
        "SIZE = 500\n",
        "a = np.random.rand(SIZE, SIZE)\n",
        "b = np.random.rand(SIZE, SIZE)\n",
        "result = np.zeros((SIZE, SIZE))\n",
        "print('Producto de dos Matrices de orden 500x500')\n",
        "# CONSULTAR SI TF ESTA USANDO gpu\n",
        "gpus = tf.config.experimental.list_physical_devices('GPU')\n",
        "if gpus:\n",
        " print('GPU is available')\n",
        "# CÁLCULO CON CPU Y PHYTHON\n",
        "inicio = time.time()\n",
        "\n",
        "for i in range(SIZE):\n",
        " for j in range(SIZE):\n",
        "  for k in range(SIZE):\n",
        "    result[i,j] += a[i,k] * b[k,j]\n",
        "\n",
        "intervalo = time.time() - inicio\n",
        "print('CPU con Python en s = ',intervalo)\n",
        "# CÁLCULO CON CON CPU Y NUMPY\n",
        "inicio = time.time()\n",
        "result = np.dot(a,b)\n",
        "intervalo = time.time() - inicio\n",
        "\n",
        "print('CPU con Numpy en s = ',intervalo)\n",
        "# CÁLCULO CON CON GPU y TENSORFLOW\n",
        "ta = tf.convert_to_tensor(a)\n",
        "tb = tf.convert_to_tensor(b)\n",
        "inicio = time.time()\n",
        "#result = tf.tensordot(a, b, axes =1, name=None)\n",
        "result = tf.math.multiply(ta,tb)\n",
        "intervalo = time.time() - inicio\n",
        "print('GPU con TensorFlow en s = ',intervalo)"
      ],
      "metadata": {
        "colab": {
          "base_uri": "https://localhost:8080/"
        },
        "id": "sVyTUmMwIXtN",
        "outputId": "68ef5954-1056-4353-aa0e-81e3d30dbac5"
      },
      "execution_count": null,
      "outputs": [
        {
          "output_type": "stream",
          "name": "stdout",
          "text": [
            "Producto de dos Matrices de orden 500x500\n",
            "CPU con Python en s =  69.09664916992188\n",
            "CPU con Numpy en s =  0.00759577751159668\n",
            "GPU con TensorFlow en s =  0.0066492557525634766\n"
          ]
        }
      ]
    },
    {
      "cell_type": "markdown",
      "source": [
        "Se observa que con código Python (sin usar librerías) se emepleó 51.95 s. Usando la librería\n",
        "numpy se utilizaron 0.0068 s. Con tensrflow en GPU se utilizaron 0.0019 s."
      ],
      "metadata": {
        "id": "FR-G6tTSIrGv"
      }
    },
    {
      "cell_type": "markdown",
      "source": [
        "Se cambió el tamaño a matrices de 15 000x15 000. Se optó no ejecutar el código de Python\n",
        "puro ya que invertía horas y horas y horas y más horas …."
      ],
      "metadata": {
        "id": "UH1z5a2VIy0L"
      }
    },
    {
      "cell_type": "code",
      "source": [
        "#app_1.57\n",
        "import time\n",
        "import os\n",
        "import tensorflow.compat.v1 as tf\n",
        "import numpy as np\n",
        "# TAMAÑO DE LA MATRIZ: SIZExSIZE\n",
        "SIZE = 15000\n",
        "a = np.random.rand(SIZE, SIZE)\n",
        "b = np.random.rand(SIZE, SIZE)\n",
        "result = np.zeros((SIZE, SIZE))\n",
        "print('Producto de dos Matrices de orden 15000x15000')\n",
        "\"\"\"\n",
        "# CONSULTAR SI TF ESTA USANDO gpu\n",
        "gpus = tf.config.experimental.list_physical_devices('GPU')\n",
        "if gpus:\n",
        " print('GPU is available')\n",
        "# CÁLCULO CON CPU Y PHYTHON\n",
        "inicio = time.time()\n",
        "\n",
        "for i in range(SIZE):\n",
        " for j in range(SIZE):\n",
        " for k in range(SIZE):\n",
        " result[i,j] += a[i,k] * b[k,j]\n",
        "\n",
        " intervalo = time.time() - inicio\n",
        "\"\"\"\n",
        "print('CPU con Python en s = SE OPTÓ POR NO EJECUTAR ...')\n",
        "# CÁLCULO CON CON CPU Y NUMPY\n",
        "inicio = time.time()\n",
        "result = np.dot(a,b)\n",
        "intervalo = time.time() - inicio\n",
        "print('CPU con Numpy en s = ',intervalo)\n",
        "# CÁLCULO CON CON GPU y TENSORFLOW\n",
        "ta = tf.convert_to_tensor(a)\n",
        "tb = tf.convert_to_tensor(b)\n",
        "inicio = time.time()\n",
        "#result = tf.tensordot(a, b, axes =1, name=None)\n",
        "result = tf.math.multiply(ta,tb)\n",
        "intervalo = time.time() - inicio\n",
        "print('GPU con TensorFlow en s = ',intervalo)"
      ],
      "metadata": {
        "colab": {
          "base_uri": "https://localhost:8080/"
        },
        "id": "ci8JhYTkI1p_",
        "outputId": "879cc0a7-1f1b-4051-ef1a-69b7761b6a1a"
      },
      "execution_count": null,
      "outputs": [
        {
          "output_type": "stream",
          "name": "stdout",
          "text": [
            "Producto de dos Matrices de orden 15000x15000\n",
            "CPU con Python en s = SE OPTÓ POR NO EJECUTAR ...\n",
            "CPU con Numpy en s =  149.3139991760254\n",
            "GPU con TensorFlow en s =  0.540499210357666\n"
          ]
        }
      ]
    },
    {
      "cell_type": "markdown",
      "source": [
        "## Referencias\n",
        "\n",
        "\n",
        "*   Diego Luis Aristizabal, Machine Learning: Auscultando las Redes Neuronales con python.\n",
        "*   Deisenroth, M.P. , Faisal A.A., Soon C. (2021). MATHEMATICS for MACHNE\n",
        "LEARNING . Cambridge University Press.\n",
        "*   VanderPlas, J., (2016). Python Data Science Handbook. O´RELLY.\n",
        "*   Zhang, Aston and Lipton, Zachary C. and Li, Mu and Smola, Alexander J. (2023). DIVE\n",
        "INTO DEEP LEARNING. Cambridge University Press.\n",
        "*   Johansson, R. (2019). Numerical Python. Scientific Computing and Data Science.\n",
        "Aplications with NumPy, SciPy and Matplotlib. Aress.\n",
        "*   Torres, J. (2020). Python Deep Learning. Introducción práctica con Keras y\n",
        "TensorFlow 2. Marcombo.\n",
        "*   Swamynathan, M., (2017). Mastering Machine Learning width Python in Six Steps.\n",
        "Apress.\n",
        "*   Shalev, S. and Ben, D (2014). Understanding Machine Learning. Cambridge University\n",
        "Press.\n",
        "*   Arggarwal, C. (2023). Neural Networks and Deep Learning. Springer."
      ],
      "metadata": {
        "id": "kVZ9sOXOYmPT"
      }
    }
  ]
}